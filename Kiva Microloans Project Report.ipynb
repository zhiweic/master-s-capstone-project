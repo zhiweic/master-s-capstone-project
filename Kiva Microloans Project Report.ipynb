{
 "metadata": {
  "name": ""
 },
 "nbformat": 3,
 "nbformat_minor": 0,
 "worksheets": [
  {
   "cells": [
    {
     "cell_type": "heading",
     "level": 1,
     "metadata": {},
     "source": [
      "Main research question:\n",
      "Will a loan be fully funded?"
     ]
    },
    {
     "cell_type": "heading",
     "level": 2,
     "metadata": {},
     "source": [
      "Introduction"
     ]
    },
    {
     "cell_type": "heading",
     "level": 3,
     "metadata": {},
     "source": [
      "KIVA Microloans"
     ]
    },
    {
     "cell_type": "markdown",
     "metadata": {},
     "source": [
      "KIVA Microloans is a non-profit organization that runs an \u201conline career support and empowerment program\u201d. It allows its users to connect through lending money to other people (mainly entrepreneurs and students) in over 70 countries. It is becoming a helpful Internet application that provides safe and accessible capital support to the borrowers and a quick and easy way for the loaners to invest their kindness. On its website, one can search for loans by categories, sectors, and other attributes of the borrowers and read the story of the loan, the repayment schedule and possibly profiles of other lenders who contributed.  It is a very handy product for borrowers to fundraise overseas in all kinds of job fields and social roles. For this capstone project, I will be analyzing the Microloans data to give some insights on the lender\u2019s behavior and answering the questions: can we predict if a loan will be fully funded? What kinds of loans are likely to be funded? \n"
     ]
    },
    {
     "cell_type": "heading",
     "level": 3,
     "metadata": {},
     "source": [
      "Data from KIVA API"
     ]
    },
    {
     "cell_type": "markdown",
     "metadata": {},
     "source": [
      "The data I am using for this project is an archived public JSON snapshot from the Kiva API. It contains more than 1.2 million lenders information and more than 650 thousands of loans. The raw data lives in thousands of JSON format files generated from hundreds or thousands of requests to the API. The API data has three objects, namely the lender object, the loans object and the loans_lenders object that connects the two main objects. Each object has attributes saved in a key-value pair dictionary data type. For this project I am only using the loans object data of the raw dataset. Since the original dataset has more than 650,000 entries, and not all of the data fields are relevant to answering my research questions, it needs a lot of pre-processing. "
     ]
    },
    {
     "cell_type": "heading",
     "level": 2,
     "metadata": {},
     "source": [
      "Data sources"
     ]
    },
    {
     "cell_type": "heading",
     "level": 6,
     "metadata": {},
     "source": [
      "Download the data from the KIVA API snapshot: http://s3.kiva.org/snapshots/kiva_ds_json.zip $\\\\$\n"
     ]
    },
    {
     "cell_type": "heading",
     "level": 6,
     "metadata": {},
     "source": [
      "Also available on my github: https://github.com/zhiweic/master-s-capstone-project $\\\\$"
     ]
    },
    {
     "cell_type": "markdown",
     "metadata": {},
     "source": [
      "After downloading the data, please unzip it. Also make sure to change your working directory before loading the data."
     ]
    },
    {
     "cell_type": "code",
     "collapsed": false,
     "input": [
      "os.chdir('/Users/admin/.../kiva_ds_json/loans')"
     ],
     "language": "python",
     "metadata": {},
     "outputs": [],
     "prompt_number": 7
    },
    {
     "cell_type": "heading",
     "level": 1,
     "metadata": {},
     "source": [
      "Data cleansing and extraction"
     ]
    },
    {
     "cell_type": "heading",
     "level": 2,
     "metadata": {},
     "source": [
      "Load JSON files"
     ]
    },
    {
     "cell_type": "markdown",
     "metadata": {},
     "source": [
      "The data fields retrieved from the raw JSON files include numerical fields: funded amount, journal entries, lender count, paid amount, loan amount, categorical fields: gender, sector, country, town, activity, id, status, first name, pictured and free user input field: description. The preprocessing mainly has 5 steps: pulling data values out of the JSON dictionary and unlisting the items, encoding the text fields from Unicode, exporting relevant variables into a easy-to-read .csv file, loading data into a panda data frame, and filtering and filling in missing information."
     ]
    },
    {
     "cell_type": "code",
     "collapsed": false,
     "input": [
      "import sys\n",
      "import os\n",
      "import json\n",
      "from collections import defaultdict\n",
      "import csv\n",
      "from string import printable"
     ],
     "language": "python",
     "metadata": {},
     "outputs": []
    },
    {
     "cell_type": "code",
     "collapsed": false,
     "input": [
      "# Initialize the dictionaries\n",
      "loans_info=defaultdict(list)"
     ],
     "language": "python",
     "metadata": {},
     "outputs": []
    },
    {
     "cell_type": "markdown",
     "metadata": {},
     "source": [
      "Variables of interest:"
     ]
    },
    {
     "cell_type": "code",
     "collapsed": false,
     "input": [
      "loans_colname=['funded_amount','sector','journal_totals','id','paid_amount','location','status','loan_amount','borrowers','lender_count','pictured','description']"
     ],
     "language": "python",
     "metadata": {},
     "outputs": []
    },
    {
     "cell_type": "markdown",
     "metadata": {},
     "source": [
      "Function to encode text fields from Unicode to utf-8"
     ]
    },
    {
     "cell_type": "code",
     "collapsed": false,
     "input": [
      "def get_string(rawstr):\n",
      "\tif isinstance(rawstr,unicode):\n",
      "\t\treturn rawstr.encode('utf-8').replace('\\n', ' ').replace('\\r', '').replace('<br>', '').replace('<i>', '').replace('</i>','').replace('<p>','') \n",
      "\telif rawstr==None:\n",
      "\t\treturn 'NA'\n",
      "\telse:\n",
      "\t\treturn rawstr"
     ],
     "language": "python",
     "metadata": {},
     "outputs": []
    },
    {
     "cell_type": "code",
     "collapsed": false,
     "input": [
      "for jfile in os.listdir(os.getcwd()):\n",
      "\tif 'json' in jfile:\n",
      "\t\topen_file=open(jfile,'r')\n",
      "\t\tpyresponse=json.load(open_file)\n",
      "\t\tresults=pyresponse[\"loans\"] #list\n",
      "\t\tfor i in range(len(results)):\n",
      "\t\t\tfor key in loans_colname:\n",
      "\t\t\t\tif key=='location':\n",
      "\t\t\t\t\ttown=get_string(results[i][key]['town'])\n",
      "\t\t\t\t\tcountry=get_string(results[i][key]['country'])\n",
      "\t\t\t\t\tloans_info['town'].append(town)\n",
      "\t\t\t\t\tloans_info['country'].append(country)\n",
      "\t\t\t\telif key=='borrowers':\n",
      "\t\t\t\t\tfirst_name=get_string(results[i][key][0]['first_name'])\n",
      "\t\t\t\t\tgender=get_string(results[i][key][0]['gender'])\n",
      "\t\t\t\t\tloans_info['first_name'].append(first_name)\n",
      "\t\t\t\t\tloans_info['gender'].append(gender)\n",
      "\t\t\t\t\tloans_info['pictured'].append(results[i][key][0]['pictured'])\n",
      "\t\t\t\telif key=='journal_totals':\n",
      "\t\t\t\t\tloans_info['journal_entries'].append(results[i][key]['entries'])\n",
      "\t\t\t\telif key=='description':\n",
      "\t\t\t\t\tif 'en' in results[i][key]['languages']:\n",
      "\t\t\t\t\t\tdescription=get_string(results[i][key]['texts']['en'])\n",
      "\t\t\t\t\t\tline=\"\".join([ ch for ch in description if ch in printable ]) \n",
      "\t\t\t\t\t\tloans_info[key].append(line)\n",
      "\t\t\t\t\telse:\n",
      "\t\t\t\t\t\tloans_info[key].append('Non-English Text')\n",
      "\t\t\t\telif isinstance(results[i][key],unicode):\n",
      "\t\t\t\t\tloans_info[key].append(results[i][key].encode('utf-8'))\n",
      "\t\t\t\telse:\n",
      "\t\t\t\t\tloans_info[key].append(results[i][key])"
     ],
     "language": "python",
     "metadata": {},
     "outputs": []
    },
    {
     "cell_type": "heading",
     "level": 3,
     "metadata": {},
     "source": [
      "Nose test 1: making sure that the data extraction is correct for different data types"
     ]
    },
    {
     "cell_type": "code",
     "collapsed": false,
     "input": [
      "%%file get_string_nose.py\n",
      "def get_string(rawstr):\n",
      "\tif isinstance(rawstr,unicode):\n",
      "\t\treturn rawstr.encode('utf-8').replace('\\n', ' ').replace('\\r', '').replace('<br>', '').replace('<i>', '').replace('</i>','').replace('<p>','') \n",
      "\telif rawstr==None:\n",
      "\t\treturn 'NA'\n",
      "\telse:\n",
      "\t\treturn rawstr\n",
      "\n",
      "def test_unicode():\n",
      "\tprint 'test string is type(unicode)'\n",
      "\tstr_a = u'Hi!\\n I am a piece of <i>unicode</i>.'\n",
      "\tresult = get_string(str_a)\n",
      "\tassert result == 'Hi!  I am a piece of unicode.'\n",
      "\n",
      "def test_number():\n",
      "\tprint 'test string is type(int)'\n",
      "\tstr_b = 12345\n",
      "\tresult = get_string(str_b)\n",
      "\tassert result == 12345\n",
      "\n",
      "def test_boolean():\n",
      "\tprint 'test string is type(bool)'\n",
      "\tstr_c = type(12345)==int #True\n",
      "\tresult = get_string(str_c)\n",
      "\tassert result == True\n",
      "\n",
      "def test_na():\n",
      "\tprint 'test string is type(Nonetype)'\n",
      "\tstr_d = None\n",
      "\tresult = get_string(str_d)\n",
      "\tassert result == 'NA'"
     ],
     "language": "python",
     "metadata": {},
     "outputs": [
      {
       "output_type": "stream",
       "stream": "stdout",
       "text": [
        "Overwriting get_string_nose.py\n"
       ]
      }
     ],
     "prompt_number": 1
    },
    {
     "cell_type": "code",
     "collapsed": false,
     "input": [
      "!nosetests get_string_nose.py"
     ],
     "language": "python",
     "metadata": {},
     "outputs": [
      {
       "output_type": "stream",
       "stream": "stdout",
       "text": [
        "....\r\n",
        "----------------------------------------------------------------------\r\n",
        "Ran 4 tests in 0.001s\r\n",
        "\r\n",
        "OK\r\n"
       ]
      }
     ],
     "prompt_number": 2
    },
    {
     "cell_type": "heading",
     "level": 2,
     "metadata": {},
     "source": [
      "Output the processed data into a csv file"
     ]
    },
    {
     "cell_type": "code",
     "collapsed": false,
     "input": [
      "# Change the directory to where you want to save the csv\n",
      "os.chdir('/Users/admin/desktop/...')"
     ],
     "language": "python",
     "metadata": {},
     "outputs": []
    },
    {
     "cell_type": "code",
     "collapsed": false,
     "input": [
      "with open('loans.csv','wb') as f:\n",
      "\tw=csv.writer(f)\n",
      "\tw.writerow(['funded_amount', 'sector', 'first_name', 'gender', 'lender_count', 'paid_amount', 'country', 'activity', 'town', 'loan_amount', 'status', 'journal_entries', 'id', 'pictured', 'description'])\n",
      "\tfor i in range(len(loans_info['sector'])):\n",
      "\t\ttemplist=[]\n",
      "\t\tfor k in loans_info.keys():\n",
      "\t\t\ttemplist.append(loans_info[k][i])\n",
      "\t\tw.writerow(templist)"
     ],
     "language": "python",
     "metadata": {},
     "outputs": []
    },
    {
     "cell_type": "code",
     "collapsed": false,
     "input": [
      "import numpy as np"
     ],
     "language": "python",
     "metadata": {},
     "outputs": [],
     "prompt_number": 3
    },
    {
     "cell_type": "code",
     "collapsed": false,
     "input": [
      "import pandas as pd"
     ],
     "language": "python",
     "metadata": {},
     "outputs": [],
     "prompt_number": 4
    },
    {
     "cell_type": "markdown",
     "metadata": {},
     "source": [
      "Load the extraced data from the csv file into a panda data frame"
     ]
    },
    {
     "cell_type": "code",
     "collapsed": false,
     "input": [
      "loans=pd.read_csv('loans.csv')"
     ],
     "language": "python",
     "metadata": {},
     "outputs": [],
     "prompt_number": 5
    },
    {
     "cell_type": "code",
     "collapsed": false,
     "input": [
      "loans.keys()"
     ],
     "language": "python",
     "metadata": {},
     "outputs": [
      {
       "metadata": {},
       "output_type": "pyout",
       "prompt_number": 6,
       "text": [
        "Index([u'funded_amount', u'sector', u'first_name', u'gender', u'lender_count', u'paid_amount', u'country', u'activity', u'town', u'loan_amount', u'status', u'journal_entries', u'id', u'pictured', u'description'], dtype='object')"
       ]
      }
     ],
     "prompt_number": 6
    },
    {
     "cell_type": "markdown",
     "metadata": {},
     "source": [
      "Filter out the system error cases where status is null"
     ]
    },
    {
     "cell_type": "code",
     "collapsed": false,
     "input": [
      "loans=loans.ix[loans['status'].isnull()==False]"
     ],
     "language": "python",
     "metadata": {},
     "outputs": [],
     "prompt_number": 7
    },
    {
     "cell_type": "markdown",
     "metadata": {},
     "source": [
      "Need to fill in the NAs for first_name, description and town "
     ]
    },
    {
     "cell_type": "code",
     "collapsed": false,
     "input": [
      "loans['first_name']=loans['first_name'].fillna('NA')\n",
      "loans['description']=loans['description'].fillna('NA')\n",
      "loans['town']=loans['town'].fillna('NA')"
     ],
     "language": "python",
     "metadata": {},
     "outputs": [],
     "prompt_number": 8
    },
    {
     "cell_type": "code",
     "collapsed": false,
     "input": [
      "from pylab import *"
     ],
     "language": "python",
     "metadata": {},
     "outputs": [],
     "prompt_number": 9
    },
    {
     "cell_type": "code",
     "collapsed": false,
     "input": [
      "%pylab inline"
     ],
     "language": "python",
     "metadata": {},
     "outputs": [
      {
       "output_type": "stream",
       "stream": "stdout",
       "text": [
        "Populating the interactive namespace from numpy and matplotlib\n"
       ]
      }
     ],
     "prompt_number": 11
    },
    {
     "cell_type": "heading",
     "level": 1,
     "metadata": {},
     "source": [
      "Exploratory Data Analysis"
     ]
    },
    {
     "cell_type": "markdown",
     "metadata": {},
     "source": [
      "After cleaning everything up into a usable data frame, I did some exploratory data analysis by looking at some summary statistics and identifying trends in how some of the variables are correlated.\n"
     ]
    },
    {
     "cell_type": "markdown",
     "metadata": {},
     "source": [
      "An intuition to check is if loans with higher funded amount have larger lenders count. I plotted the scatter plot with funded amount on the y-axis and lender count on the x-axis, and then fitted a regression line to the data points. \n"
     ]
    },
    {
     "cell_type": "code",
     "collapsed": false,
     "input": [
      "plot(loans['lender_count'],loans['funded_amount'],'ob')\n",
      "xlabel('lender_count')\n",
      "ylabel('funded_amount')"
     ],
     "language": "python",
     "metadata": {},
     "outputs": [
      {
       "metadata": {},
       "output_type": "pyout",
       "prompt_number": 11,
       "text": [
        "<matplotlib.text.Text at 0x18d24d90>"
       ]
      },
      {
       "metadata": {},
       "output_type": "display_data",
       "png": "[encoded data removed]",
       "text": [
        "<matplotlib.figure.Figure at 0x18d13f10>"
       ]
      }
     ],
     "prompt_number": 11
    },
    {
     "cell_type": "code",
     "collapsed": false,
     "input": [
      "from statsmodels.formula.api import ols"
     ],
     "language": "python",
     "metadata": {},
     "outputs": [],
     "prompt_number": 12
    },
    {
     "cell_type": "code",
     "collapsed": false,
     "input": [
      "lm0 = ols('funded_amount ~ lender_count', loans).fit()\n",
      "lm0.summary()"
     ],
     "language": "python",
     "metadata": {},
     "outputs": [
      {
       "html": [
        "<table class=\"simpletable\">\n",
        "<caption>OLS Regression Results</caption>\n",
        "<tr>\n",
        "  <th>Dep. Variable:</th>      <td>funded_amount</td>  <th>  R-squared:         </th>  <td>   0.858</td>  \n",
        "</tr>\n",
        "<tr>\n",
        "  <th>Model:</th>                   <td>OLS</td>       <th>  Adj. R-squared:    </th>  <td>   0.858</td>  \n",
        "</tr>\n",
        "<tr>\n",
        "  <th>Method:</th>             <td>Least Squares</td>  <th>  F-statistic:       </th>  <td>3.991e+06</td> \n",
        "</tr>\n",
        "<tr>\n",
        "  <th>Date:</th>             <td>Tue, 06 May 2014</td> <th>  Prob (F-statistic):</th>   <td>  0.00</td>   \n",
        "</tr>\n",
        "<tr>\n",
        "  <th>Time:</th>                 <td>16:48:30</td>     <th>  Log-Likelihood:    </th> <td>-4.7500e+06</td>\n",
        "</tr>\n",
        "<tr>\n",
        "  <th>No. Observations:</th>      <td>659956</td>      <th>  AIC:               </th>  <td>9.500e+06</td> \n",
        "</tr>\n",
        "<tr>\n",
        "  <th>Df Residuals:</th>          <td>659954</td>      <th>  BIC:               </th>  <td>9.500e+06</td> \n",
        "</tr>\n",
        "<tr>\n",
        "  <th>Df Model:</th>              <td>     1</td>      <th>                     </th>      <td> </td>     \n",
        "</tr>\n",
        "</table>\n",
        "<table class=\"simpletable\">\n",
        "<tr>\n",
        "        <td></td>          <th>coef</th>     <th>std err</th>      <th>t</th>      <th>P>|t|</th> <th>[95.0% Conf. Int.]</th> \n",
        "</tr>\n",
        "<tr>\n",
        "  <th>Intercept</th>    <td>   40.1699</td> <td>    0.545</td> <td>   73.650</td> <td> 0.000</td> <td>   39.101    41.239</td>\n",
        "</tr>\n",
        "<tr>\n",
        "  <th>lender_count</th> <td>   30.8941</td> <td>    0.015</td> <td> 1997.869</td> <td> 0.000</td> <td>   30.864    30.924</td>\n",
        "</tr>\n",
        "</table>\n",
        "<table class=\"simpletable\">\n",
        "<tr>\n",
        "  <th>Omnibus:</th>       <td>852163.735</td> <th>  Durbin-Watson:     </th>   <td>   1.777</td>   \n",
        "</tr>\n",
        "<tr>\n",
        "  <th>Prob(Omnibus):</th>   <td> 0.000</td>   <th>  Jarque-Bera (JB):  </th> <td>351836802.564</td>\n",
        "</tr>\n",
        "<tr>\n",
        "  <th>Skew:</th>            <td> 6.929</td>   <th>  Prob(JB):          </th>   <td>    0.00</td>   \n",
        "</tr>\n",
        "<tr>\n",
        "  <th>Kurtosis:</th>        <td>115.262</td>  <th>  Cond. No.          </th>   <td>    48.4</td>   \n",
        "</tr>\n",
        "</table>"
       ],
       "metadata": {},
       "output_type": "pyout",
       "prompt_number": 13,
       "text": [
        "<class 'statsmodels.iolib.summary.Summary'>\n",
        "\"\"\"\n",
        "                            OLS Regression Results                            \n",
        "==============================================================================\n",
        "Dep. Variable:          funded_amount   R-squared:                       0.858\n",
        "Model:                            OLS   Adj. R-squared:                  0.858\n",
        "Method:                 Least Squares   F-statistic:                 3.991e+06\n",
        "Date:                Tue, 06 May 2014   Prob (F-statistic):               0.00\n",
        "Time:                        16:48:30   Log-Likelihood:            -4.7500e+06\n",
        "No. Observations:              659956   AIC:                         9.500e+06\n",
        "Df Residuals:                  659954   BIC:                         9.500e+06\n",
        "Df Model:                           1                                         \n",
        "================================================================================\n",
        "                   coef    std err          t      P>|t|      [95.0% Conf. Int.]\n",
        "--------------------------------------------------------------------------------\n",
        "Intercept       40.1699      0.545     73.650      0.000        39.101    41.239\n",
        "lender_count    30.8941      0.015   1997.869      0.000        30.864    30.924\n",
        "==============================================================================\n",
        "Omnibus:                   852163.735   Durbin-Watson:                   1.777\n",
        "Prob(Omnibus):                  0.000   Jarque-Bera (JB):        351836802.564\n",
        "Skew:                           6.929   Prob(JB):                         0.00\n",
        "Kurtosis:                     115.262   Cond. No.                         48.4\n",
        "==============================================================================\n",
        "\"\"\""
       ]
      }
     ],
     "prompt_number": 13
    },
    {
     "cell_type": "code",
     "collapsed": false,
     "input": [
      "interc,slope=lm0.params\n",
      "plot(loans['lender_count'],loans['funded_amount'],'ob')\n",
      "xlabel('lender_count')\n",
      "ylabel('funded_amount')\n",
      "fitted=interc+slope*loans['lender_count']\n",
      "plot(loans['lender_count'],fitted,'r-')"
     ],
     "language": "python",
     "metadata": {},
     "outputs": [
      {
       "metadata": {},
       "output_type": "pyout",
       "prompt_number": 14,
       "text": [
        "[<matplotlib.lines.Line2D at 0x6c6d150>]"
       ]
      },
      {
       "metadata": {},
       "output_type": "display_data",
       "png": "[encoded data removed]",
       "text": [
        "<matplotlib.figure.Figure at 0xdb7ed10>"
       ]
      }
     ],
     "prompt_number": 14
    },
    {
     "cell_type": "markdown",
     "metadata": {},
     "source": [
      "The slope of the regression line is significantly positive, and it tells us that each additional lender of a loan contributes to around 30 dollars. However, from the scatterplot we observe that this is only true when the funded amount is big. It\u2019s pretty clear that once the funded amount hit 10,000, the more money funded the more lenders needed to achieve that. With loans lower than $10,000, we cannot identify a pattern. "
     ]
    },
    {
     "cell_type": "markdown",
     "metadata": {},
     "source": [
      "Also it is interesting to see which sectors have the most number of loans, and later on I would want to further discuss if the sector of a loan affects its probability of being fully funded. "
     ]
    },
    {
     "cell_type": "code",
     "collapsed": false,
     "input": [
      "sector=pd.Categorical.from_array(loans['sector'])"
     ],
     "language": "python",
     "metadata": {},
     "outputs": [],
     "prompt_number": 15
    },
    {
     "cell_type": "code",
     "collapsed": false,
     "input": [
      "print interc,slope"
     ],
     "language": "python",
     "metadata": {},
     "outputs": [
      {
       "output_type": "stream",
       "stream": "stdout",
       "text": [
        "40.1698595904 30.8941215651\n"
       ]
      }
     ],
     "prompt_number": 16
    },
    {
     "cell_type": "code",
     "collapsed": false,
     "input": [
      "def jitter(series, factor):\n",
      "    z = float(series.max()) - float(series.min())\n",
      "    a = float(factor) * z / 50.\n",
      "    return map(lambda x: x + np.random.uniform(-a, a), series)"
     ],
     "language": "python",
     "metadata": {},
     "outputs": [],
     "prompt_number": 17
    },
    {
     "cell_type": "code",
     "collapsed": false,
     "input": [
      "import matplotlib.pyplot as plt"
     ],
     "language": "python",
     "metadata": {},
     "outputs": [],
     "prompt_number": 12
    },
    {
     "cell_type": "code",
     "collapsed": false,
     "input": [
      "loans.groupby('sector')['country'].describe()"
     ],
     "language": "python",
     "metadata": {},
     "outputs": [
      {
       "output_type": "pyout",
       "prompt_number": 18,
       "text": [
        "sector                \n",
        "Agriculture     count          142347\n",
        "                unique             73\n",
        "                top       Philippines\n",
        "                freq            25691\n",
        "Arts            count           13630\n",
        "                unique             69\n",
        "                top              Peru\n",
        "                freq             2650\n",
        "Clothing        count           44552\n",
        "                unique             70\n",
        "                top             Kenya\n",
        "                freq             4540\n",
        "Construction    count           11980\n",
        "                unique             67\n",
        "                top         Nicaragua\n",
        "                freq             1640\n",
        "Education       count           10055\n",
        "                unique             57\n",
        "                top            Jordan\n",
        "                freq             1016\n",
        "Entertainment   count            1161\n",
        "                unique             55\n",
        "                top       Philippines\n",
        "                freq              179\n",
        "Food            count          168675\n",
        "                unique             72\n",
        "                top       Philippines\n",
        "                freq            26168\n",
        "Health          count            5513\n",
        "                unique             62\n",
        "                top             Kenya\n",
        "                freq              716\n",
        "Housing         count           21806\n",
        "                unique             52\n",
        "                top         Nicaragua\n",
        "                freq             5505\n",
        "Manufacturing   count            9009\n",
        "                unique             67\n",
        "                top       Philippines\n",
        "                freq             1250\n",
        "Personal Use    count            7944\n",
        "                unique             52\n",
        "                top          Cambodia\n",
        "                freq             2776\n",
        "Retail          count          148469\n",
        "                unique             78\n",
        "                top       Philippines\n",
        "                freq            34919\n",
        "Services        count           51515\n",
        "                unique             72\n",
        "                top             Kenya\n",
        "                freq             5621\n",
        "Transportation  count           21869\n",
        "                unique             60\n",
        "                top       Philippines\n",
        "                freq             5122\n",
        "Wholesale       count            1431\n",
        "                unique             60\n",
        "                top              Peru\n",
        "                freq              151\n",
        "Length: 60, dtype: object"
       ]
      }
     ],
     "prompt_number": 18
    },
    {
     "cell_type": "markdown",
     "metadata": {},
     "source": [
      "From the crosstab of sector and loan count, we see that the top three sectors are Food, Retail and Agriculture. Philippines, the country that owns the most number of loans, also owns the most loans in these three sectors. Entertainment and wholesale have a lot fewer loans comparing the the other sectors."
     ]
    },
    {
     "cell_type": "code",
     "collapsed": false,
     "input": [
      "lm1 = ols('loan_amount ~ sector', loans).fit()\n",
      "lm1.summary()"
     ],
     "language": "python",
     "metadata": {},
     "outputs": [
      {
       "html": [
        "<table class=\"simpletable\">\n",
        "<caption>OLS Regression Results</caption>\n",
        "<tr>\n",
        "  <th>Dep. Variable:</th>       <td>loan_amount</td>   <th>  R-squared:         </th>  <td>   0.006</td>  \n",
        "</tr>\n",
        "<tr>\n",
        "  <th>Model:</th>                   <td>OLS</td>       <th>  Adj. R-squared:    </th>  <td>   0.006</td>  \n",
        "</tr>\n",
        "<tr>\n",
        "  <th>Method:</th>             <td>Least Squares</td>  <th>  F-statistic:       </th>  <td>   295.6</td>  \n",
        "</tr>\n",
        "<tr>\n",
        "  <th>Date:</th>             <td>Tue, 06 May 2014</td> <th>  Prob (F-statistic):</th>   <td>  0.00</td>   \n",
        "</tr>\n",
        "<tr>\n",
        "  <th>Time:</th>                 <td>16:53:49</td>     <th>  Log-Likelihood:    </th> <td>-5.4168e+06</td>\n",
        "</tr>\n",
        "<tr>\n",
        "  <th>No. Observations:</th>      <td>659956</td>      <th>  AIC:               </th>  <td>1.083e+07</td> \n",
        "</tr>\n",
        "<tr>\n",
        "  <th>Df Residuals:</th>          <td>659941</td>      <th>  BIC:               </th>  <td>1.083e+07</td> \n",
        "</tr>\n",
        "<tr>\n",
        "  <th>Df Model:</th>              <td>    14</td>      <th>                     </th>      <td> </td>     \n",
        "</tr>\n",
        "</table>\n",
        "<table class=\"simpletable\">\n",
        "<tr>\n",
        "              <td></td>                <th>coef</th>     <th>std err</th>      <th>t</th>      <th>P>|t|</th> <th>[95.0% Conf. Int.]</th> \n",
        "</tr>\n",
        "<tr>\n",
        "  <th>Intercept</th>                <td>  804.6445</td> <td>    2.353</td> <td>  341.924</td> <td> 0.000</td> <td>  800.032   809.257</td>\n",
        "</tr>\n",
        "<tr>\n",
        "  <th>sector[T.Arts]</th>           <td>   70.0107</td> <td>    7.961</td> <td>    8.794</td> <td> 0.000</td> <td>   54.408    85.614</td>\n",
        "</tr>\n",
        "<tr>\n",
        "  <th>sector[T.Clothing]</th>       <td>  132.6625</td> <td>    4.820</td> <td>   27.523</td> <td> 0.000</td> <td>  123.216   142.109</td>\n",
        "</tr>\n",
        "<tr>\n",
        "  <th>sector[T.Construction]</th>   <td>   82.7804</td> <td>    8.446</td> <td>    9.801</td> <td> 0.000</td> <td>   66.226    99.335</td>\n",
        "</tr>\n",
        "<tr>\n",
        "  <th>sector[T.Education]</th>      <td>  168.3640</td> <td>    9.162</td> <td>   18.377</td> <td> 0.000</td> <td>  150.407   186.321</td>\n",
        "</tr>\n",
        "<tr>\n",
        "  <th>sector[T.Entertainment]</th>  <td>  217.0825</td> <td>   26.164</td> <td>    8.297</td> <td> 0.000</td> <td>  165.803   268.362</td>\n",
        "</tr>\n",
        "<tr>\n",
        "  <th>sector[T.Food]</th>           <td>  -41.5978</td> <td>    3.196</td> <td>  -13.017</td> <td> 0.000</td> <td>  -47.861   -35.335</td>\n",
        "</tr>\n",
        "<tr>\n",
        "  <th>sector[T.Health]</th>         <td>  176.7223</td> <td>   12.187</td> <td>   14.501</td> <td> 0.000</td> <td>  152.836   200.609</td>\n",
        "</tr>\n",
        "<tr>\n",
        "  <th>sector[T.Housing]</th>        <td>   53.1997</td> <td>    6.457</td> <td>    8.239</td> <td> 0.000</td> <td>   40.545    65.855</td>\n",
        "</tr>\n",
        "<tr>\n",
        "  <th>sector[T.Manufacturing]</th>  <td>   58.8587</td> <td>    9.646</td> <td>    6.102</td> <td> 0.000</td> <td>   39.953    77.764</td>\n",
        "</tr>\n",
        "<tr>\n",
        "  <th>sector[T.Personal Use]</th>   <td>  -17.9438</td> <td>   10.236</td> <td>   -1.753</td> <td> 0.080</td> <td>  -38.006     2.118</td>\n",
        "</tr>\n",
        "<tr>\n",
        "  <th>sector[T.Retail]</th>         <td>    8.3441</td> <td>    3.294</td> <td>    2.533</td> <td> 0.011</td> <td>    1.889    14.799</td>\n",
        "</tr>\n",
        "<tr>\n",
        "  <th>sector[T.Services]</th>       <td>  173.2843</td> <td>    4.565</td> <td>   37.958</td> <td> 0.000</td> <td>  164.337   182.232</td>\n",
        "</tr>\n",
        "<tr>\n",
        "  <th>sector[T.Transportation]</th> <td>  -19.6314</td> <td>    6.449</td> <td>   -3.044</td> <td> 0.002</td> <td>  -32.271    -6.992</td>\n",
        "</tr>\n",
        "<tr>\n",
        "  <th>sector[T.Wholesale]</th>      <td>  404.1780</td> <td>   23.589</td> <td>   17.135</td> <td> 0.000</td> <td>  357.945   450.411</td>\n",
        "</tr>\n",
        "</table>\n",
        "<table class=\"simpletable\">\n",
        "<tr>\n",
        "  <th>Omnibus:</th>       <td>798340.652</td> <th>  Durbin-Watson:     </th>   <td>   1.707</td>   \n",
        "</tr>\n",
        "<tr>\n",
        "  <th>Prob(Omnibus):</th>   <td> 0.000</td>   <th>  Jarque-Bera (JB):  </th> <td>607371260.671</td>\n",
        "</tr>\n",
        "<tr>\n",
        "  <th>Skew:</th>            <td> 5.854</td>   <th>  Prob(JB):          </th>   <td>    0.00</td>   \n",
        "</tr>\n",
        "<tr>\n",
        "  <th>Kurtosis:</th>        <td>151.157</td>  <th>  Cond. No.          </th>   <td>    25.6</td>   \n",
        "</tr>\n",
        "</table>"
       ],
       "metadata": {},
       "output_type": "pyout",
       "prompt_number": 20,
       "text": [
        "<class 'statsmodels.iolib.summary.Summary'>\n",
        "\"\"\"\n",
        "                            OLS Regression Results                            \n",
        "==============================================================================\n",
        "Dep. Variable:            loan_amount   R-squared:                       0.006\n",
        "Model:                            OLS   Adj. R-squared:                  0.006\n",
        "Method:                 Least Squares   F-statistic:                     295.6\n",
        "Date:                Tue, 06 May 2014   Prob (F-statistic):               0.00\n",
        "Time:                        16:53:49   Log-Likelihood:            -5.4168e+06\n",
        "No. Observations:              659956   AIC:                         1.083e+07\n",
        "Df Residuals:                  659941   BIC:                         1.083e+07\n",
        "Df Model:                          14                                         \n",
        "============================================================================================\n",
        "                               coef    std err          t      P>|t|      [95.0% Conf. Int.]\n",
        "--------------------------------------------------------------------------------------------\n",
        "Intercept                  804.6445      2.353    341.924      0.000       800.032   809.257\n",
        "sector[T.Arts]              70.0107      7.961      8.794      0.000        54.408    85.614\n",
        "sector[T.Clothing]         132.6625      4.820     27.523      0.000       123.216   142.109\n",
        "sector[T.Construction]      82.7804      8.446      9.801      0.000        66.226    99.335\n",
        "sector[T.Education]        168.3640      9.162     18.377      0.000       150.407   186.321\n",
        "sector[T.Entertainment]    217.0825     26.164      8.297      0.000       165.803   268.362\n",
        "sector[T.Food]             -41.5978      3.196    -13.017      0.000       -47.861   -35.335\n",
        "sector[T.Health]           176.7223     12.187     14.501      0.000       152.836   200.609\n",
        "sector[T.Housing]           53.1997      6.457      8.239      0.000        40.545    65.855\n",
        "sector[T.Manufacturing]     58.8587      9.646      6.102      0.000        39.953    77.764\n",
        "sector[T.Personal Use]     -17.9438     10.236     -1.753      0.080       -38.006     2.118\n",
        "sector[T.Retail]             8.3441      3.294      2.533      0.011         1.889    14.799\n",
        "sector[T.Services]         173.2843      4.565     37.958      0.000       164.337   182.232\n",
        "sector[T.Transportation]   -19.6314      6.449     -3.044      0.002       -32.271    -6.992\n",
        "sector[T.Wholesale]        404.1780     23.589     17.135      0.000       357.945   450.411\n",
        "==============================================================================\n",
        "Omnibus:                   798340.652   Durbin-Watson:                   1.707\n",
        "Prob(Omnibus):                  0.000   Jarque-Bera (JB):        607371260.671\n",
        "Skew:                           5.854   Prob(JB):                         0.00\n",
        "Kurtosis:                     151.157   Cond. No.                         25.6\n",
        "==============================================================================\n",
        "\"\"\""
       ]
      }
     ],
     "prompt_number": 20
    },
    {
     "cell_type": "code",
     "collapsed": false,
     "input": [
      "boxdata=loans[['sector','loan_amount']]\n",
      "boxdata.boxplot(by='sector')\n",
      "xticks(np.unique(sector.labels)+1, sector.levels,rotation=10,fontsize=10)\n",
      "xlabel('sector')\n",
      "ylabel('loan_amount')\n",
      "\n",
      "plot(range(16)[1:], lm1.params[0] + np.append(0, lm1.params[1:]), 'sr', markersize=10)"
     ],
     "language": "python",
     "metadata": {},
     "outputs": [
      {
       "metadata": {},
       "output_type": "pyout",
       "prompt_number": 21,
       "text": [
        "[<matplotlib.lines.Line2D at 0x2426e290>]"
       ]
      },
      {
       "metadata": {},
       "output_type": "display_data",
       "png": "[encoded data removed]",
       "text": [
        "<matplotlib.figure.Figure at 0x23439090>"
       ]
      }
     ],
     "prompt_number": 21
    },
    {
     "cell_type": "markdown",
     "metadata": {},
     "source": [
      "To see if loan amount differs by sectors, I looked at a side-by-side boxplot of all the sectors. Since we have relatively few loans more than 10,000, those over are all treated as outliers, and we cannot really see what is going on with the smaller loans. Therefore, I decided to focus on the mini-loans of amount less than or equal to $2000. I also observed that the loans in the top three sectors are three out of five of sectors with the least average loan amount. Wholesale, entertainment and health are the top three sectors with the largest average loan amount."
     ]
    },
    {
     "cell_type": "heading",
     "level": 1,
     "metadata": {},
     "source": [
      "Data analysis and modeling"
     ]
    },
    {
     "cell_type": "heading",
     "level": 2,
     "metadata": {},
     "source": [
      "Take a closer look at a subset of the data: Focusing on smaller loans"
     ]
    },
    {
     "cell_type": "markdown",
     "metadata": {},
     "source": [
      "The next step is to clean up the data that I wanted to focus on doing more advance analysis. I filtered out all the loans higher than $2000, and those with status \u201crefunded\u201d and \u201cissue\u201d. These two statuses mean that there were some exception and unexpected situation with the loans, so I would want to clear these noises from my dataset. "
     ]
    },
    {
     "cell_type": "code",
     "collapsed": false,
     "input": [
      "small=loans[loans['loan_amount']<2000]\n",
      "small=small[small['loan_amount']>0]\n",
      "small=small[small['status']!='refunded']\n",
      "small=small[small['status']!='issue']"
     ],
     "language": "python",
     "metadata": {},
     "outputs": [],
     "prompt_number": 13
    },
    {
     "cell_type": "code",
     "collapsed": false,
     "input": [
      "small=small[['sector','first_name','gender','country','town','activity','loan_amount','journal_entries','pictured','description','status']]"
     ],
     "language": "python",
     "metadata": {},
     "outputs": [],
     "prompt_number": 14
    },
    {
     "cell_type": "markdown",
     "metadata": {},
     "source": [
      "My first interesting discovery is that 20% of the countries (about 15 of them) own around 432,000 loans (more than 70% of total loans), which agrees with the 80-20 rule saying that roughly 80% of the effects come from 20% of the causes. This is a classical rule reflecting the distribution of capital and wealth. Even in this mini-scale Internet trading environment, we can see that the cash flows follow the rule. The top five countries with the most number of loans are Philippines, which has twice as many loans as the second place, Peru, followed by Kenya, Cambodia and Nicaragua."
     ]
    },
    {
     "cell_type": "code",
     "collapsed": false,
     "input": [
      "sum(small['country'].value_counts()[0:15])"
     ],
     "language": "python",
     "metadata": {},
     "outputs": [
      {
       "metadata": {},
       "output_type": "pyout",
       "prompt_number": 15,
       "text": [
        "432490"
       ]
      }
     ],
     "prompt_number": 15
    },
    {
     "cell_type": "code",
     "collapsed": false,
     "input": [
      "country=pd.Categorical.from_array(small['country'])\n",
      "color=country.labels\n",
      "small['country'].value_counts()"
     ],
     "language": "python",
     "metadata": {},
     "outputs": [
      {
       "metadata": {},
       "output_type": "pyout",
       "prompt_number": 25,
       "text": [
        "Philippines     101323\n",
        "Peru             58804\n",
        "Kenya            56143\n",
        "Cambodia         38581\n",
        "Nicaragua        29208\n",
        "Uganda           20310\n",
        "El Salvador      20149\n",
        "Tajikistan       18176\n",
        "Ecuador          17051\n",
        "Ghana            16539\n",
        "Pakistan         13660\n",
        "Bolivia          12027\n",
        "Mexico           11300\n",
        "Togo             10003\n",
        "Sierra Leone      9216\n",
        "...\n",
        "South Africa                            164\n",
        "Burundi                                 149\n",
        "The Democratic Republic of the Congo    134\n",
        "Haiti                                   133\n",
        "Zambia                                  116\n",
        "United States                            95\n",
        "Belize                                   88\n",
        "Turkey                                   77\n",
        "Thailand                                 35\n",
        "Israel                                   20\n",
        "Bangladesh                               14\n",
        "Brazil                                   14\n",
        "Gaza                                      7\n",
        "Chad                                      5\n",
        "Suriname                                  1\n",
        "Length: 76, dtype: int64"
       ]
      }
     ],
     "prompt_number": 25
    },
    {
     "cell_type": "code",
     "collapsed": false,
     "input": [
      "li=small.groupby('country')['loan_amount'].sum()\n",
      "li.sort(ascending=False)\n",
      "li[0:15]"
     ],
     "language": "python",
     "metadata": {},
     "outputs": [
      {
       "metadata": {},
       "output_type": "pyout",
       "prompt_number": 83,
       "text": [
        "country\n",
        "Philippines    34450100\n",
        "Peru           33583850\n",
        "Cambodia       26383775\n",
        "Kenya          25759300\n",
        "Nicaragua      17443575\n",
        "Ecuador        14797925\n",
        "Tajikistan     14287000\n",
        "Uganda         13210925\n",
        "El Salvador    11955850\n",
        "Bolivia        10173200\n",
        "Pakistan        9197850\n",
        "Ghana           8373550\n",
        "Lebanon         8086675\n",
        "Togo            7822075\n",
        "Rwanda          7429075\n",
        "Name: loan_amount, dtype: int64"
       ]
      }
     ],
     "prompt_number": 83
    },
    {
     "cell_type": "markdown",
     "metadata": {},
     "source": [
      "With the clean data, I again looked at the relationship between sector and loan amount. From table, we can see that now wholesale, health and education are the top three sectors with the most expensive average loans. Comparing to my previous results, entertainment is kicked out of the top 5, which indicates that there are some loans in the entertainment sector with a huge loan amount that are now filtered out as \u201coutliers\u201d. The bottom three sectors are now food, retail and arts."
     ]
    },
    {
     "cell_type": "code",
     "collapsed": false,
     "input": [
      "sector=pd.Categorical.from_array(small['sector'])\n",
      "small.groupby('sector')['loan_amount'].mean()"
     ],
     "language": "python",
     "metadata": {},
     "outputs": [
      {
       "metadata": {},
       "output_type": "pyout",
       "prompt_number": 28,
       "text": [
        "sector\n",
        "Agriculture       643.049944\n",
        "Arts              622.157476\n",
        "Clothing          672.014087\n",
        "Construction      706.904394\n",
        "Education         721.252618\n",
        "Entertainment     661.951220\n",
        "Food              566.907460\n",
        "Health            726.370902\n",
        "Housing           706.699558\n",
        "Manufacturing     673.872938\n",
        "Personal Use      676.903417\n",
        "Retail            594.016683\n",
        "Services          674.200931\n",
        "Transportation    630.248449\n",
        "Wholesale         744.330105\n",
        "Name: loan_amount, dtype: float64"
       ]
      }
     ],
     "prompt_number": 28
    },
    {
     "cell_type": "code",
     "collapsed": false,
     "input": [
      "boxdata=small[['sector','loan_amount']]\n",
      "boxdata.boxplot(by='sector')\n",
      "xticks(np.unique(sector.labels)+1, sector.levels,rotation=10,fontsize=10)\n",
      "xlabel('sector')\n",
      "ylabel('loan_amount')\n",
      "\n",
      "lm2 = ols('loan_amount ~ sector', small).fit()\n",
      "\n",
      "plot(range(16)[1:], lm1.params[0] + np.append(0, lm1.params[1:]), 'sr', markersize=10)\n",
      "plot(range(16)[1:], lm2.params[0] + np.append(0, lm2.params[1:]), 'sb', markersize=10)"
     ],
     "language": "python",
     "metadata": {},
     "outputs": [
      {
       "metadata": {},
       "output_type": "pyout",
       "prompt_number": 27,
       "text": [
        "[<matplotlib.lines.Line2D at 0x33611a10>]"
       ]
      },
      {
       "metadata": {},
       "output_type": "display_data",
       "png": "[encoded data removed]",
       "text": [
        "<matplotlib.figure.Figure at 0x2f08a790>"
       ]
      }
     ],
     "prompt_number": 27
    },
    {
     "cell_type": "markdown",
     "metadata": {},
     "source": [
      "Side to side boxplots of sectors comparing the loan amount. The blue squares are the loan amount means of each sector, while the red squares are the loan amount means of each sector before filtering the \"outliers\". We can see that Entertainment and Wholesale have the two means very far apart. Actually for these two sectors, the red square is outside of the 25-75 interquantile. These are the sectors that have most number of expensive loans."
     ]
    },
    {
     "cell_type": "heading",
     "level": 2,
     "metadata": {},
     "source": [
      "Text Classification: loan status vs. description"
     ]
    },
    {
     "cell_type": "markdown",
     "metadata": {},
     "source": [
      "Whenever a lender browses through the website, the first thing that he/she will look at is most probably going to be the description of the loan. Then naturally we would want to know if the description of the borrowers tells us anything about the likeliness of a loan being funded. To do this, I focus on only the description and loan status fields and trying to classify loans based on the text information. Loans with status \u201cfundraising\u201d are not included for training my model, since it is unclear if they will be funded or not. In other words, the usage of my classifier is to help predict whether a fundraising loan will be fully funded.\n"
     ]
    },
    {
     "cell_type": "markdown",
     "metadata": {},
     "source": [
      "Loans with status \"fundraising/reviewed\" are loans that we don't know if they will get funded or not.\n",
      "REAL test set: fundraising"
     ]
    },
    {
     "cell_type": "code",
     "collapsed": false,
     "input": [
      "test_cond=(small['status']=='fundraising') | (small['status']=='reviewed')\n",
      "fundraising=small[test_cond]\n",
      "fundraising['status'].value_counts()"
     ],
     "language": "python",
     "metadata": {},
     "outputs": [
      {
       "metadata": {},
       "output_type": "pyout",
       "prompt_number": 16,
       "text": [
        "fundraising    2231\n",
        "reviewed        605\n",
        "dtype: int64"
       ]
      }
     ],
     "prompt_number": 16
    },
    {
     "cell_type": "markdown",
     "metadata": {},
     "source": [
      "Training set includes all the other loans that we already know if they werer funded or not."
     ]
    },
    {
     "cell_type": "code",
     "collapsed": false,
     "input": [
      "small=small[~test_cond]\n",
      "small['status'].value_counts()"
     ],
     "language": "python",
     "metadata": {},
     "outputs": [
      {
       "metadata": {},
       "output_type": "pyout",
       "prompt_number": 17,
       "text": [
        "paid                469260\n",
        "in_repayment         99974\n",
        "defaulted            11245\n",
        "inactive_expired      8462\n",
        "expired               7471\n",
        "deleted               2275\n",
        "inactive               494\n",
        "funded                 483\n",
        "dtype: int64"
       ]
      }
     ],
     "prompt_number": 17
    },
    {
     "cell_type": "markdown",
     "metadata": {},
     "source": [
      "I recoded the loan status as either fully funded (1) or not fully funded (0) as following:"
     ]
    },
    {
     "cell_type": "markdown",
     "metadata": {},
     "source": [
      "| Status | Paid | In repayment | Funded | Defaulted | Inactive expired | Expired | Deleted | Inactive |\n",
      "|--------|------|--------------|--------|-----------|------------------|---------|---------|----------|\n",
      "| Recode | 1    | 1            | 1      | 1         | 0                | 0       | 0       | 0        |"
     ]
    },
    {
     "cell_type": "code",
     "collapsed": false,
     "input": [
      "reencode={'paid':1, 'in_repayment':1, 'funded':1, 'defaulted':1, 'inactive_expired':0, 'expired':0, 'deleted':0, 'inactive':0}\n",
      "small['status']=small['status'].map(reencode)"
     ],
     "language": "python",
     "metadata": {},
     "outputs": [],
     "prompt_number": 18
    },
    {
     "cell_type": "heading",
     "level": 3,
     "metadata": {},
     "source": [
      "Nose Test 2: making sure that the recoding is working"
     ]
    },
    {
     "cell_type": "code",
     "collapsed": false,
     "input": [
      "%%file encode_nose.py\n",
      "def encode(status):\n",
      "\ttest_cond = (status =='fundraising' or status =='reviewed')\n",
      "\tif test_cond==True:\n",
      "\t\treturn 'NA'\n",
      "\telse:\n",
      "\t\treencode={'paid':1, 'in_repayment':1, 'funded':1, 'defaulted':1, 'inactive_expired':0, 'expired':0, 'refunded':0, 'deleted':0, 'inactive':0, 'issue':0}\n",
      "\t\treturn reencode[status]\n",
      "\n",
      "def test_1():\n",
      "    status = ['paid','paid','defaulted','inactive_expired']\n",
      "    result = map(encode,status)\n",
      "    assert result == [1, 1, 1, 0]\n",
      "\n",
      "def test_2():\n",
      " \tstatus2 = ['defaulted', 'inactive_expired', 'fundraising', 'deleted', 'reviewed']\n",
      " \tresult = map(encode,status2)\n",
      " \tassert result == [1, 0, 'NA', 0, 'NA']"
     ],
     "language": "python",
     "metadata": {},
     "outputs": [
      {
       "output_type": "stream",
       "stream": "stdout",
       "text": [
        "Overwriting encode_nose.py\n"
       ]
      }
     ],
     "prompt_number": 3
    },
    {
     "cell_type": "code",
     "collapsed": false,
     "input": [
      "!nosetests encode_nose.py"
     ],
     "language": "python",
     "metadata": {},
     "outputs": [
      {
       "output_type": "stream",
       "stream": "stdout",
       "text": [
        "..\r\n",
        "----------------------------------------------------------------------\r\n",
        "Ran 2 tests in 0.000s\r\n",
        "\r\n",
        "OK\r\n"
       ]
      }
     ],
     "prompt_number": 4
    },
    {
     "cell_type": "heading",
     "level": 3,
     "metadata": {},
     "source": [
      "Naive Bayes Classifier Training and Evaluation"
     ]
    },
    {
     "cell_type": "markdown",
     "metadata": {},
     "source": [
      "After recoding the statuses, I have more than 580 thousands of fully funded loans, and 18.7 thousands of not fully funded ones, which is only about 3.2% of the funded ones. This imbalance of 0/1 cases might result in some over-fitting of under-fitting problems that will be discussed later.\n"
     ]
    },
    {
     "cell_type": "code",
     "collapsed": false,
     "input": [
      "small['status'].value_counts()"
     ],
     "language": "python",
     "metadata": {},
     "outputs": [
      {
       "metadata": {},
       "output_type": "pyout",
       "prompt_number": 19,
       "text": [
        "1    580962\n",
        "0     18702\n",
        "dtype: int64"
       ]
      }
     ],
     "prompt_number": 19
    },
    {
     "cell_type": "code",
     "collapsed": false,
     "input": [
      "from scipy.stats import sem"
     ],
     "language": "python",
     "metadata": {},
     "outputs": [],
     "prompt_number": 20
    },
    {
     "cell_type": "code",
     "collapsed": false,
     "input": [
      "from sklearn.cross_validation import cross_val_score, KFold"
     ],
     "language": "python",
     "metadata": {},
     "outputs": [],
     "prompt_number": 21
    },
    {
     "cell_type": "code",
     "collapsed": false,
     "input": [
      "small.keys()"
     ],
     "language": "python",
     "metadata": {},
     "outputs": [
      {
       "metadata": {},
       "output_type": "pyout",
       "prompt_number": 22,
       "text": [
        "Index([u'sector', u'first_name', u'gender', u'country', u'town', u'activity', u'loan_amount', u'journal_entries', u'pictured', u'description', u'status'], dtype='object')"
       ]
      }
     ],
     "prompt_number": 22
    },
    {
     "cell_type": "markdown",
     "metadata": {},
     "source": [
      "In order to recognize the patterns in descriptions, I decided to use statistical classifiers to capture the features in the text. A Na\u00efve Bayes Classifier is the most desired method. Some advantages for the Na\u00efve Bayes Classifiers are: 1) it is a very simple probabilistic classifier based on the Bayes rule; 2) it can be trained very efficiently in a supervised learning setting. Usually the strong independence assumptions it requires are not true. However, the multinomial Na\u00efve Bayes Classifier is suitable for classification with discrete features (e.g., word counts for text classification). In other words, for the description I have, the presence of a particular word is usually independent of any other words. Some exceptions are when the author uses some common phrases, which is taken into consideration and will be solved later in the process. \n"
     ]
    },
    {
     "cell_type": "code",
     "collapsed": false,
     "input": [
      "SPLIT = 0.8\n",
      "split = int(len(small['status'])*SPLIT)\n",
      "Y = small['status']\n",
      "X = small['description']"
     ],
     "language": "python",
     "metadata": {},
     "outputs": [],
     "prompt_number": 23
    },
    {
     "cell_type": "markdown",
     "metadata": {},
     "source": [
      "Sample randomly for the training set to split it into the real training set and evaluation set."
     ]
    },
    {
     "cell_type": "code",
     "collapsed": false,
     "input": [
      "from sklearn.cross_validation import train_test_split\n",
      "X_train, X_test, Y_train, Y_test = train_test_split(X,Y,test_size=0.2, random_state=0)"
     ],
     "language": "python",
     "metadata": {},
     "outputs": [],
     "prompt_number": 24
    },
    {
     "cell_type": "markdown",
     "metadata": {},
     "source": [
      "Create a k-fold croos validation iterator of k=5 folds"
     ]
    },
    {
     "cell_type": "code",
     "collapsed": false,
     "input": [
      "def evaluate_cross_validation(clf, X, y, K):\n",
      "    cv = KFold(len(y), K, shuffle=True, random_state=0)\n",
      "    # by default the score used is the one returned by score method of the estimator (accuracy)\n",
      "    scores = cross_val_score(clf, X, y, cv=cv)\n",
      "    print scores\n",
      "    print (\"Mean score: {0:.3f} (+/-{1:.4f})\").format(\n",
      "        np.mean(scores), sem(scores))"
     ],
     "language": "python",
     "metadata": {},
     "outputs": [],
     "prompt_number": 25
    },
    {
     "cell_type": "code",
     "collapsed": false,
     "input": [
      "from sklearn.naive_bayes import MultinomialNB\n",
      "from sklearn.pipeline import Pipeline\n",
      "from sklearn.feature_extraction.text import CountVectorizer,TfidfVectorizer"
     ],
     "language": "python",
     "metadata": {},
     "outputs": [],
     "prompt_number": 26
    },
    {
     "cell_type": "heading",
     "level": 4,
     "metadata": {},
     "source": [
      "CV on two different weighting methods: Count Vectorizer and Tfidf Vectorizer"
     ]
    },
    {
     "cell_type": "markdown",
     "metadata": {},
     "source": [
      "The descriptions can be viewed as a sample from the \u201cbag-of-words model\u201d, which is represented by a bag of words, disregarding grammar or word order to keep the simplicity. This model is commonly used for natural language processing and document classification. Since word order and meaning cannot be quantified easily, the frequency of each word is used as a key feature for training a classifier. In my first step of determining which classifier to use, I evaluated performance of the simple word count weighting and the tf-idf (term frequency\u2013inverse document frequency) weighting method with 5-fold cross validation. Here I used the sklearn and scipy stats module. The main difference of the tf-idf value compared to the usual count weighting is that it controls for the fact that some words generally occur more often than others by increasing the measure proportionally to the number of times a word appears in the paragraph but also downscaling by its frequency in other paragraphs."
     ]
    },
    {
     "cell_type": "code",
     "collapsed": false,
     "input": [
      "clf = Pipeline([\n",
      "    ('vect', CountVectorizer()),\n",
      "    ('clf', MultinomialNB()),\n",
      "])\n",
      "clf2 = Pipeline([\n",
      "    ('vect', TfidfVectorizer()),\n",
      "    ('clf', MultinomialNB()),\n",
      "])"
     ],
     "language": "python",
     "metadata": {},
     "outputs": [],
     "prompt_number": 27
    },
    {
     "cell_type": "code",
     "collapsed": false,
     "input": [
      "clfs = [clf, clf2]\n",
      "for clf in clfs:\n",
      "   evaluate_cross_validation(clf, X, Y, 5)"
     ],
     "language": "python",
     "metadata": {},
     "outputs": [
      {
       "output_type": "stream",
       "stream": "stdout",
       "text": [
        "[ 0.94623665  0.9458531   0.94688701  0.94571969  0.94737018]\n",
        "Mean score: 0.946 (+/-0.0003)\n",
        "[ 0.96902437  0.96834899  0.96905772  0.96818224  0.96964947]"
       ]
      },
      {
       "output_type": "stream",
       "stream": "stdout",
       "text": [
        "\n",
        "Mean score: 0.969 (+/-0.0003)\n"
       ]
      }
     ],
     "prompt_number": 22
    },
    {
     "cell_type": "heading",
     "level": 4,
     "metadata": {},
     "source": [
      "Add stop words"
     ]
    },
    {
     "cell_type": "markdown",
     "metadata": {},
     "source": [
      "From the cross validation results, we were able to tell that the tf-idf weighting did a superior job. Tf-idf can be used for stop-words filtering with its special weighting scheme. To ensure that the common words and phrases were thrown out, I decided to impose a list of stop-word to the classifier so that these words and phrases will be filtered out prior to the text processing of descriptions."
     ]
    },
    {
     "cell_type": "code",
     "collapsed": false,
     "input": [
      "def get_stop_words():\n",
      "    result = set()\n",
      "    for line in open('english.stop.txt', 'r').readlines():\n",
      "        result.add(line.strip())\n",
      "    return result"
     ],
     "language": "python",
     "metadata": {},
     "outputs": [],
     "prompt_number": 28
    },
    {
     "cell_type": "code",
     "collapsed": false,
     "input": [
      "stop_words = get_stop_words()"
     ],
     "language": "python",
     "metadata": {},
     "outputs": [],
     "prompt_number": 30
    },
    {
     "cell_type": "code",
     "collapsed": false,
     "input": [
      "clf3 = Pipeline([\n",
      "    ('vect', TfidfVectorizer(\n",
      "                stop_words=stop_words,\n",
      "    )),\n",
      "    ('clf', MultinomialNB()),\n",
      "])"
     ],
     "language": "python",
     "metadata": {},
     "outputs": [],
     "prompt_number": 31
    },
    {
     "cell_type": "code",
     "collapsed": false,
     "input": [
      "evaluate_cross_validation(clf3, X, Y, 5)"
     ],
     "language": "python",
     "metadata": {},
     "outputs": [
      {
       "output_type": "stream",
       "stream": "stdout",
       "text": [
        "[ 0.96899102  0.96831564  0.96899102  0.96815722  0.96971617]\n",
        "Mean score: 0.969 (+/-0.0003)\n"
       ]
      }
     ],
     "prompt_number": 26
    },
    {
     "cell_type": "markdown",
     "metadata": {},
     "source": [
      "Again, with 5-fold cross validation, results showed that stop-words effectively improved the performance of the classifier."
     ]
    },
    {
     "cell_type": "heading",
     "level": 4,
     "metadata": {},
     "source": [
      "Adjust the alpha parameter for Lidstone smoothing"
     ]
    },
    {
     "cell_type": "markdown",
     "metadata": {},
     "source": [
      "Another possible change to the classifier has to do with the fact that a multinomial distribution deals with categories. Applying an additive smoothing technique to the classifier permits the assignment of non-zero probabilities to words not in the sample. Additive smoothing, a.k.a Lidstone smoothing is commonly a component of na\u00efve Bayes classifiers. Although this did not improve the cross validation result, it could be help for training the data, since we have limited data on unfunded loans. With additive smoothing, we will be able to have a more complete word frequency list. For all of these text classifiers, I used a pipeline to combine the process of weighting the words and cross validating."
     ]
    },
    {
     "cell_type": "code",
     "collapsed": false,
     "input": [
      "clf4 = Pipeline([\n",
      "    ('vect', TfidfVectorizer(\n",
      "                stop_words=stop_words,\n",
      "    )),\n",
      "    ('clf', MultinomialNB(alpha=0.01)),\n",
      "])"
     ],
     "language": "python",
     "metadata": {},
     "outputs": [],
     "prompt_number": 32
    },
    {
     "cell_type": "code",
     "collapsed": false,
     "input": [
      "evaluate_cross_validation(clf4, X, Y, 5)"
     ],
     "language": "python",
     "metadata": {},
     "outputs": [
      {
       "output_type": "stream",
       "stream": "stdout",
       "text": [
        "[ 0.96688151  0.96598934  0.96708996  0.96634788  0.96791515]\n",
        "Mean score: 0.967 (+/-0.0003)\n"
       ]
      }
     ],
     "prompt_number": 37
    },
    {
     "cell_type": "heading",
     "level": 4,
     "metadata": {},
     "source": [
      "Training and evaluation"
     ]
    },
    {
     "cell_type": "markdown",
     "metadata": {},
     "source": [
      "Now that I have two candidates for my classifier, I could train and evaluate them with my built-up pipeline. The sklearn module gives a very nicely formatted metric report on classification, which came in to be handy for classifier evaluation. "
     ]
    },
    {
     "cell_type": "code",
     "collapsed": false,
     "input": [
      "from sklearn import metrics\n",
      "\n",
      "def train_and_evaluate(clf, X_train, X_test, y_train, y_test):\n",
      "    \n",
      "    clf.fit(X_train, y_train)\n",
      "    \n",
      "    print \"Accuracy on training set:\"\n",
      "    print clf.score(X_train, y_train)\n",
      "    print \"Accuracy on testing set:\"\n",
      "    print clf.score(X_test, y_test)\n",
      "    \n",
      "    y_pred = clf.predict(X_test)\n",
      "    \n",
      "    print \"Classification Report:\"\n",
      "    print metrics.classification_report(y_test, y_pred)"
     ],
     "language": "python",
     "metadata": {},
     "outputs": [],
     "prompt_number": 33
    },
    {
     "cell_type": "markdown",
     "metadata": {},
     "source": [
      "In the classification metrics report, precision (1) = true positive/(true positive + false positive), recall (1) = true positive/(true positive+ false negative), f1-score (1), harmonic mean of precision and recall, = 2tp/(2tp+fp+fn). "
     ]
    },
    {
     "cell_type": "code",
     "collapsed": false,
     "input": [
      "train_and_evaluate(clf3, X_train, X_test, Y_train, Y_test)"
     ],
     "language": "python",
     "metadata": {},
     "outputs": [
      {
       "output_type": "stream",
       "stream": "stdout",
       "text": [
        "Accuracy on training set:\n",
        "0.968769998186"
       ]
      },
      {
       "output_type": "stream",
       "stream": "stdout",
       "text": [
        "\n",
        "Accuracy on testing set:\n",
        "0.968991019986"
       ]
      },
      {
       "output_type": "stream",
       "stream": "stdout",
       "text": [
        "\n",
        "Classification Report:"
       ]
      },
      {
       "output_type": "stream",
       "stream": "stdout",
       "text": [
        "\n",
        "             precision    recall  f1-score   support\n",
        "\n",
        "          0       0.59      0.01      0.02      3732\n",
        "          1       0.97      1.00      0.98    116201\n",
        "\n",
        "avg / total       0.96      0.97      0.95    119933\n",
        "\n"
       ]
      }
     ],
     "prompt_number": 30
    },
    {
     "cell_type": "code",
     "collapsed": false,
     "input": [
      "train_and_evaluate(clf4, X_train, X_test, Y_train, Y_test)"
     ],
     "language": "python",
     "metadata": {},
     "outputs": [
      {
       "output_type": "stream",
       "stream": "stdout",
       "text": [
        "Accuracy on training set:\n",
        "0.971871736452"
       ]
      },
      {
       "output_type": "stream",
       "stream": "stdout",
       "text": [
        "\n",
        "Accuracy on testing set:\n",
        "0.966881508842"
       ]
      },
      {
       "output_type": "stream",
       "stream": "stdout",
       "text": [
        "\n",
        "Classification Report:"
       ]
      },
      {
       "output_type": "stream",
       "stream": "stdout",
       "text": [
        "\n",
        "             precision    recall  f1-score   support\n",
        "\n",
        "          0       0.38      0.10      0.16      3732\n",
        "          1       0.97      0.99      0.98    116201\n",
        "\n",
        "avg / total       0.95      0.97      0.96    119933\n",
        "\n"
       ]
      }
     ],
     "prompt_number": 41
    },
    {
     "cell_type": "markdown",
     "metadata": {},
     "source": [
      "In both of the reports, the precision rate, recall rate and f1-score for funded loans are very high, around 0.97-0.99. This tells us that we are doing very well in predicting the status of the funded ones. However, when we look at the precision, recall and f1-score for the not fully funded loans, the metrics are a little disappointing. For precision (0), we see that only 40-50% of the unfunded loans are correctly classified. While for recall (0), even with Lidstone smoothing, 90% of the loans predicted to be unfunded are actually fully funded. Since I want to give positive feedbacks for as much cases as possible, i.e. I don\u2019t want the funded loans to be misclassified, I chose the classifier with Lidstone smoothing and sacrificing the precision for a higher recall for unfunded loans. Although the testing and training sets have very high classification score, it does not mean that our classifier is doing excellent. As discussed earlier, we have much more funded loans than unfunded ones, therefore the classifier has more information to predict the funded ones and thus does better in precision (1) and recall (1). "
     ]
    },
    {
     "cell_type": "heading",
     "level": 4,
     "metadata": {},
     "source": [
      "ROC Curve"
     ]
    },
    {
     "cell_type": "markdown",
     "metadata": {},
     "source": [
      "To be clearer on how the classifier is doing in classifying the loans, I plotted the ROC (Receiver Operating Characteristic) curve. "
     ]
    },
    {
     "cell_type": "code",
     "collapsed": false,
     "input": [
      "from sklearn.metrics import roc_curve, auc"
     ],
     "language": "python",
     "metadata": {},
     "outputs": [],
     "prompt_number": 34
    },
    {
     "cell_type": "code",
     "collapsed": false,
     "input": [
      "probas=clf4.fit(X_train,Y_train).predict_proba(X_test)\n",
      "fpr, tpr, thresholds = roc_curve(Y_test, probas[:,1])\n",
      "roc_auc=auc(fpr, tpr)\n",
      "print \"Area under the ROC curve: %f\" % roc_auc"
     ],
     "language": "python",
     "metadata": {},
     "outputs": [
      {
       "output_type": "stream",
       "stream": "stdout",
       "text": [
        "Area under the ROC curve: 0.756752\n"
       ]
      }
     ],
     "prompt_number": 35
    },
    {
     "cell_type": "code",
     "collapsed": false,
     "input": [
      "plot(fpr,tpr,label='ROC curve (area = %0.3f)' % roc_auc)\n",
      "plot([0,1],[0,1],'k--')\n",
      "xlim([0.0,1.0])\n",
      "ylim([0.0,1.0])\n",
      "title('ROC curve')\n",
      "legend(loc=\"lower right\")"
     ],
     "language": "python",
     "metadata": {},
     "outputs": [
      {
       "metadata": {},
       "output_type": "pyout",
       "prompt_number": 36,
       "text": [
        "<matplotlib.legend.Legend at 0x1117fd610>"
       ]
      },
      {
       "metadata": {},
       "output_type": "display_data",
       "png": "[encoded data removed]",
       "text": [
        "<matplotlib.figure.Figure at 0x107d7fb10>"
       ]
      }
     ],
     "prompt_number": 36
    },
    {
     "cell_type": "markdown",
     "metadata": {},
     "source": [
      "The area under the curve is the overall accuracy of my classifier, about 75.7%.  There are two limitations in my data and model. 1) I have a huge imbalance in information on funded and unfunded loans; 2) Prediction based on only the description field could be presumably not enough data."
     ]
    },
    {
     "cell_type": "heading",
     "level": 1,
     "metadata": {},
     "source": [
      "Logistic Regression"
     ]
    },
    {
     "cell_type": "markdown",
     "metadata": {},
     "source": [
      "To make a better prediction, I then looked at the demographic information in the dataset, and chose the following variables to enter my logistic regression model: loan amount, journal entries, sector, gender and pictured. The pictured field is a Boolean variable with True meaning the user has a profile picture and False otherwise."
     ]
    },
    {
     "cell_type": "code",
     "collapsed": false,
     "input": [
      "small['sector']=pd.Categorical.from_array(small['sector'])\n",
      "small['country']=pd.Categorical.from_array(small['country'])\n",
      "small['gender']=pd.Categorical.from_array(small['gender'])\n",
      "small['pictured']=pd.Categorical.from_array(small['pictured'])"
     ],
     "language": "python",
     "metadata": {},
     "outputs": [],
     "prompt_number": 33
    },
    {
     "cell_type": "code",
     "collapsed": false,
     "input": [
      "import statsmodels.api as sm"
     ],
     "language": "python",
     "metadata": {},
     "outputs": [],
     "prompt_number": 15
    },
    {
     "cell_type": "code",
     "collapsed": false,
     "input": [
      "formula = ('status ~ loan_amount + journal_entries + sector + gender + pictured')"
     ],
     "language": "python",
     "metadata": {},
     "outputs": [],
     "prompt_number": 14
    },
    {
     "cell_type": "code",
     "collapsed": false,
     "input": [
      "X=sm.add_constant(X)"
     ],
     "language": "python",
     "metadata": {},
     "outputs": [],
     "prompt_number": 68
    },
    {
     "cell_type": "code",
     "collapsed": false,
     "input": [
      "model=sm.GLM.from_formula(formula=formula, data=small,family=sm.families.Binomial()).fit()"
     ],
     "language": "python",
     "metadata": {},
     "outputs": [],
     "prompt_number": 84
    },
    {
     "cell_type": "code",
     "collapsed": false,
     "input": [
      "print model.summary()"
     ],
     "language": "python",
     "metadata": {},
     "outputs": [
      {
       "output_type": "stream",
       "stream": "stdout",
       "text": [
        "                 Generalized Linear Model Regression Results                  \n",
        "==============================================================================\n",
        "Dep. Variable:                 status   No. Observations:               599664\n",
        "Model:                            GLM   Df Residuals:                   599645\n",
        "Model Family:                Binomial   Df Model:                           18\n",
        "Link Function:                  logit   Scale:                             1.0\n",
        "Method:                          IRLS   Log-Likelihood:                    nan\n",
        "Date:                Sat, 15 Mar 2014   Deviance:                   1.3603e+05\n",
        "Time:                        19:50:30   Pearson chi2:                 6.65e+05\n",
        "No. Iterations:                    14                                         \n",
        "============================================================================================\n",
        "                               coef    std err          t      P>|t|      [95.0% Conf. Int.]\n",
        "--------------------------------------------------------------------------------------------\n",
        "Intercept                    3.8692      0.439      8.820      0.000         3.009     4.729\n",
        "sector[T.Arts]               0.3410      0.077      4.446      0.000         0.191     0.491\n",
        "sector[T.Clothing]          -0.4397      0.032    -13.631      0.000        -0.503    -0.376\n",
        "sector[T.Construction]       0.3585      0.066      5.414      0.000         0.229     0.488\n",
        "sector[T.Education]          1.0084      0.086     11.746      0.000         0.840     1.177\n",
        "sector[T.Entertainment]      0.8454      0.273      3.096      0.002         0.310     1.381\n",
        "sector[T.Food]              -0.0959      0.024     -3.993      0.000        -0.143    -0.049\n",
        "sector[T.Health]             0.2371      0.090      2.643      0.008         0.061     0.413\n",
        "sector[T.Housing]           -0.8972      0.031    -28.695      0.000        -0.958    -0.836\n",
        "sector[T.Manufacturing]      0.6429      0.089      7.264      0.000         0.469     0.816\n",
        "sector[T.Personal Use]      -0.4958      0.054     -9.180      0.000        -0.602    -0.390\n",
        "sector[T.Retail]            -0.3404      0.023    -14.630      0.000        -0.386    -0.295\n",
        "sector[T.Services]           0.0297      0.034      0.876      0.381        -0.037     0.096\n",
        "sector[T.Transportation]    -0.1552      0.043     -3.624      0.000        -0.239    -0.071\n",
        "sector[T.Wholesale]          0.1919      0.184      1.042      0.298        -0.169     0.553\n",
        "gender[T.M]                 -0.5948      0.016    -36.144      0.000        -0.627    -0.563\n",
        "pictured[T.True]             0.0400      0.438      0.091      0.927        -0.818     0.898\n",
        "loan_amount                 -0.0011   1.71e-05    -64.433      0.000        -0.001    -0.001\n",
        "journal_entries              4.2089      0.071     59.658      0.000         4.071     4.347\n",
        "============================================================================================\n"
       ]
      }
     ],
     "prompt_number": 85
    },
    {
     "cell_type": "markdown",
     "metadata": {},
     "source": [
      "The logistics regression results tells me that an average male is less likely to have a fully funded loan than a similar female with log odd around 0.59. Having more journal entries increases the probability of a loan getting funded by a lot, while having a profile picture does not really help the borrower at all. Surprisingly, having a larger loan amount only lowers the probability of getting funded by a small margin, less than the effect of journal entries."
     ]
    },
    {
     "cell_type": "code",
     "collapsed": false,
     "input": [
      "loan_1 = small['loan_amount'][small['status'] == 1]\n",
      "loan_0 = small['loan_amount'][small['status'] == 0]\n",
      "journal_1 = small['journal_entries'][small['status'] == 1]\n",
      "journal_0 = small['journal_entries'][small['status'] == 0]"
     ],
     "language": "python",
     "metadata": {},
     "outputs": [],
     "prompt_number": 34
    },
    {
     "cell_type": "code",
     "collapsed": false,
     "input": [
      "fig = plt.figure(figsize = (10, 8))\n",
      "# Not funded\n",
      "plt.plot(journal_0, loan_0, '*', label = 'Not funded', \n",
      "         mfc = 'None', mec='red', alpha = .5)\n",
      "# Funded\n",
      "plt.plot(journal_1,loan_1, '.', label = 'Funded', \n",
      "         mfc = 'None', mec='blue', alpha = .5)\n",
      "\n",
      "plt.xlim([-1,25])\n",
      "plt.xlabel('Journal entries')\n",
      "plt.ylabel('Loan amount')\n",
      "plt.legend(loc='upper right')"
     ],
     "language": "python",
     "metadata": {},
     "outputs": [
      {
       "metadata": {},
       "output_type": "pyout",
       "prompt_number": 35,
       "text": [
        "<matplotlib.legend.Legend at 0x2f75dbd0>"
       ]
      },
      {
       "metadata": {},
       "output_type": "display_data",
       "png": "[encoded data removed]",
       "text": [
        "<matplotlib.figure.Figure at 0x2f75b750>"
       ]
      }
     ],
     "prompt_number": 35
    },
    {
     "cell_type": "markdown",
     "metadata": {},
     "source": [
      "This scatterplot of journal entries and loan amount color coded with red as not funded and clue as funded shows that it is almost unlikely to have an unfunded loan if a user has more than 2 journal entries."
     ]
    },
    {
     "cell_type": "heading",
     "level": 1,
     "metadata": {},
     "source": [
      "Conclusion"
     ]
    },
    {
     "cell_type": "markdown",
     "metadata": {},
     "source": [
      "Education, entertainment and manufacturing are the three sectors that are funded most often, while housing, personal use and clothing are the least funded. Education, even being one of the larger loan sectors, still gets funded very often. Entertainment and manufacturing also have relatively more expensive loans but at the same time are funded more often as well. The least funded sectors do not have the most expensive or the cheapest loan amounts, and the uses are more personal than job oriented. Description of the loan is the first thing that the lenders will read, however, it only partly determines whether the loan will be funded. Moreover, telling one's story and goal in journals are more important than having a profile picture. This confirms the intuition that people lending using KIVA cares more about the motivation and inspiration of the borrowers and less about the actual amount of money."
     ]
    },
    {
     "cell_type": "heading",
     "level": 1,
     "metadata": {},
     "source": [
      "Reference"
     ]
    },
    {
     "cell_type": "heading",
     "level": 6,
     "metadata": {},
     "source": [
      "Natural Language Processing with Python, by Steven Bird, Ewan Klein and Edward Loper 2009 $\\\\$\n"
     ]
    },
    {
     "cell_type": "markdown",
     "metadata": {},
     "source": [
      " "
     ]
    },
    {
     "cell_type": "heading",
     "level": 6,
     "metadata": {},
     "source": [
      "scikit-learn-book Chap 2 - Supervised Learning - Text Classification with Naive Bayes.ipynb\n",
      "http://nbviewer.ipython.org/github/gmonce/scikit-learn-book/tree/master/"
     ]
    }
   ],
   "metadata": {}
  }
 ]
}